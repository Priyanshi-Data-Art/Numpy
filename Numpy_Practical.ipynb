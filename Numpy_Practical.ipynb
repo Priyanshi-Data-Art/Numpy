{
  "nbformat": 4,
  "nbformat_minor": 0,
  "metadata": {
    "colab": {
      "provenance": [],
      "authorship_tag": "ABX9TyPkt6DZfayIgUoToYP1B7xr",
      "include_colab_link": true
    },
    "kernelspec": {
      "name": "python3",
      "display_name": "Python 3"
    },
    "language_info": {
      "name": "python"
    }
  },
  "cells": [
    {
      "cell_type": "markdown",
      "metadata": {
        "id": "view-in-github",
        "colab_type": "text"
      },
      "source": [
        "<a href=\"https://colab.research.google.com/github/Priyanshi-Data-Art/Numpy/blob/main/Numpy_Practical.ipynb\" target=\"_parent\"><img src=\"https://colab.research.google.com/assets/colab-badge.svg\" alt=\"Open In Colab\"/></a>"
      ]
    },
    {
      "cell_type": "markdown",
      "source": [
        "Create a 3x3 NumPy array with random integers between 1 and 100. Then, interchange its rows and columns."
      ],
      "metadata": {
        "id": "rCwn2-gStDAJ"
      }
    },
    {
      "cell_type": "code",
      "execution_count": 1,
      "metadata": {
        "colab": {
          "base_uri": "https://localhost:8080/"
        },
        "id": "LbNv1UIvtCKn",
        "outputId": "ca4b0821-a062-42dc-8a2f-1fff6dad9baa"
      },
      "outputs": [
        {
          "output_type": "stream",
          "name": "stdout",
          "text": [
            "Original array :\n",
            " [[22 17 51]\n",
            " [99  7 80]\n",
            " [44 36 27]]\n",
            " and Interchange array :\n",
            " [[22 99 44]\n",
            " [17  7 36]\n",
            " [51 80 27]]\n",
            "\n"
          ]
        }
      ],
      "source": [
        "import numpy as np\n",
        "a1=np.random.randint(1,100,(3,3))\n",
        "print(f\"Original array :\\n {a1}\\n and Interchange array :\\n {a1.T}\\n\")"
      ]
    },
    {
      "cell_type": "markdown",
      "source": [
        "Generate a 1D NumPy array with 10 elements. Reshape it into a 2x5 array, then into a 5x2 array\n"
      ],
      "metadata": {
        "id": "6SOzn1hdtIr9"
      }
    },
    {
      "cell_type": "code",
      "source": [
        "a=np.array([1,2,3,4,5,6,7,8,9,10])\n",
        "print(a)\n",
        "print(f\"dimensional of an array : {a.ndim}\\n\")\n",
        "print(f\"Reshaping it to 2*5 :\\n {a.reshape((2,5))}\")\n",
        "print(f\"Reshaping it to 5*2 :\\n {a.reshape((5,2))}\")"
      ],
      "metadata": {
        "colab": {
          "base_uri": "https://localhost:8080/"
        },
        "id": "DRCDEwvstHgg",
        "outputId": "c155cea0-4f9c-47f5-fc73-f308f71e42b1"
      },
      "execution_count": 2,
      "outputs": [
        {
          "output_type": "stream",
          "name": "stdout",
          "text": [
            "[ 1  2  3  4  5  6  7  8  9 10]\n",
            "dimensional of an array : 1\n",
            "\n",
            "Reshaping it to 2*5 :\n",
            " [[ 1  2  3  4  5]\n",
            " [ 6  7  8  9 10]]\n",
            "Reshaping it to 5*2 :\n",
            " [[ 1  2]\n",
            " [ 3  4]\n",
            " [ 5  6]\n",
            " [ 7  8]\n",
            " [ 9 10]]\n"
          ]
        }
      ]
    },
    {
      "cell_type": "markdown",
      "source": [
        "Create a 4x4 NumPy array with random float values. Add a border of zeros around it, resulting in a 6x6 array"
      ],
      "metadata": {
        "id": "0L9l7exKtPqo"
      }
    },
    {
      "cell_type": "code",
      "source": [
        "a=np.random.rand(4,4)\n",
        "print(a)\n",
        "array=np.pad(a, pad_width=1, mode='constant', constant_values=0)\n",
        "print(f\"\\nArray :-\\n{array}\")"
      ],
      "metadata": {
        "colab": {
          "base_uri": "https://localhost:8080/"
        },
        "id": "n4E_8rTltNV0",
        "outputId": "bb13fd23-a8c7-4675-f49c-f38f9e3838fb"
      },
      "execution_count": 3,
      "outputs": [
        {
          "output_type": "stream",
          "name": "stdout",
          "text": [
            "[[0.51781387 0.96407781 0.11050452 0.29999339]\n",
            " [0.93770108 0.64796625 0.9183457  0.65672786]\n",
            " [0.91194615 0.90194645 0.30758374 0.59415766]\n",
            " [0.50057986 0.73150294 0.20564363 0.06451579]]\n",
            "\n",
            "Array :-\n",
            "[[0.         0.         0.         0.         0.         0.        ]\n",
            " [0.         0.51781387 0.96407781 0.11050452 0.29999339 0.        ]\n",
            " [0.         0.93770108 0.64796625 0.9183457  0.65672786 0.        ]\n",
            " [0.         0.91194615 0.90194645 0.30758374 0.59415766 0.        ]\n",
            " [0.         0.50057986 0.73150294 0.20564363 0.06451579 0.        ]\n",
            " [0.         0.         0.         0.         0.         0.        ]]\n"
          ]
        }
      ]
    },
    {
      "cell_type": "markdown",
      "source": [
        "Using NumPy, create an array of integers from 10 to 60 with a step of 5."
      ],
      "metadata": {
        "id": "j0c1hoCftWVh"
      }
    },
    {
      "cell_type": "code",
      "source": [
        "ar1=np.arange(10,61,5)\n",
        "ar1"
      ],
      "metadata": {
        "colab": {
          "base_uri": "https://localhost:8080/"
        },
        "id": "jKTTklUltWvJ",
        "outputId": "b1e517ca-5efe-4af6-8f04-063fc5df491e"
      },
      "execution_count": 4,
      "outputs": [
        {
          "output_type": "execute_result",
          "data": {
            "text/plain": [
              "array([10, 15, 20, 25, 30, 35, 40, 45, 50, 55, 60])"
            ]
          },
          "metadata": {},
          "execution_count": 4
        }
      ]
    },
    {
      "cell_type": "markdown",
      "source": [
        "Create a NumPy array of strings ['python', 'numpy', 'pandas']. Apply different case transformations (uppercase, lowercase, title case, etc.) to each element."
      ],
      "metadata": {
        "id": "5ViG9cCFtbxJ"
      }
    },
    {
      "cell_type": "code",
      "source": [
        "str_array=np.array(['python', 'numpy', 'pandas'])\n",
        "uppercase=np.char.upper(str_array)\n",
        "lowercase=np.char.lower(str_array)\n",
        "title_case=np.char.title(str_array)\n",
        "\n",
        "print(f\"Uppercase:={uppercase} \\nLowercase:={lowercase} \\nTitle case:= {title_case}\")"
      ],
      "metadata": {
        "colab": {
          "base_uri": "https://localhost:8080/"
        },
        "id": "JdRiKB9VtZTx",
        "outputId": "d1ae98bb-8ff9-4a82-c6fb-f1775e311c94"
      },
      "execution_count": 5,
      "outputs": [
        {
          "output_type": "stream",
          "name": "stdout",
          "text": [
            "Uppercase:=['PYTHON' 'NUMPY' 'PANDAS'] \n",
            "Lowercase:=['python' 'numpy' 'pandas'] \n",
            "Title case:= ['Python' 'Numpy' 'Pandas']\n"
          ]
        }
      ]
    },
    {
      "cell_type": "markdown",
      "source": [
        "Generate a NumPy array of words. Insert a space between each character of every word in the array."
      ],
      "metadata": {
        "id": "rE5sBpmRu79u"
      }
    },
    {
      "cell_type": "code",
      "source": [
        "import numpy as np\n",
        "ch=np.array(['this', 'is', 'the', 'pen'])\n",
        "np.char.join(' ',ch)"
      ],
      "metadata": {
        "colab": {
          "base_uri": "https://localhost:8080/"
        },
        "id": "WFS-AWkytePw",
        "outputId": "1065bad8-c37a-41bf-fae8-eef371e08d68"
      },
      "execution_count": 6,
      "outputs": [
        {
          "output_type": "execute_result",
          "data": {
            "text/plain": [
              "array(['t h i s', 'i s', 't h e', 'p e n'], dtype='<U7')"
            ]
          },
          "metadata": {},
          "execution_count": 6
        }
      ]
    },
    {
      "cell_type": "markdown",
      "source": [
        "Create two 2D NumPy arrays and perform element-wise addition, subtraction, multiplication, and division."
      ],
      "metadata": {
        "id": "XsCC5QDJvAmi"
      }
    },
    {
      "cell_type": "code",
      "source": [
        "arr1=np.random.randint(1,5,(3,3))\n",
        "arr2=np.random.randint(1,5,(3,3))\n",
        "print(f\"array1=\\n{arr1}\\n array2=\\n{arr2}\")\n",
        "print(f\"dimension of an array : {arr1.ndim}\")\n",
        "# Element wise addition\n",
        "print(f\"Addition of two array :\\n {arr1+arr2}\")\n",
        "\n",
        "# Element wise Subtraction\n",
        "print(f\"Subtration of two array :\\n {arr1-arr2}\")\n",
        "\n",
        "# Element wise multiplication\n",
        "print(f\"Multiplication of two array :\\n {arr1*arr2}\")\n",
        "\n",
        "# Element wise Division\n",
        "print(f\"Division of two array :\\n {arr1/arr2}\")"
      ],
      "metadata": {
        "colab": {
          "base_uri": "https://localhost:8080/"
        },
        "id": "WFhtMBWkvBG8",
        "outputId": "09388356-fefc-4926-dfa1-7ad2ffc8ee4a"
      },
      "execution_count": 7,
      "outputs": [
        {
          "output_type": "stream",
          "name": "stdout",
          "text": [
            "array1=\n",
            "[[4 3 4]\n",
            " [4 4 1]\n",
            " [1 1 2]]\n",
            " array2=\n",
            "[[4 1 3]\n",
            " [4 3 3]\n",
            " [4 2 4]]\n",
            "dimension of an array : 2\n",
            "Addition of two array :\n",
            " [[8 4 7]\n",
            " [8 7 4]\n",
            " [5 3 6]]\n",
            "Subtration of two array :\n",
            " [[ 0  2  1]\n",
            " [ 0  1 -2]\n",
            " [-3 -1 -2]]\n",
            "Multiplication of two array :\n",
            " [[16  3 12]\n",
            " [16 12  3]\n",
            " [ 4  2  8]]\n",
            "Division of two array :\n",
            " [[1.         3.         1.33333333]\n",
            " [1.         1.33333333 0.33333333]\n",
            " [0.25       0.5        0.5       ]]\n"
          ]
        }
      ]
    },
    {
      "cell_type": "markdown",
      "source": [
        "Use NumPy to create a 5x5 identity matrix, then extract its diagonal elements."
      ],
      "metadata": {
        "id": "yRoBvNOAvIup"
      }
    },
    {
      "cell_type": "code",
      "source": [
        "identity_matrix=np.identity(5,dtype=int)\n",
        "extract_diagonal=np.diag(identity_matrix)\n",
        "print(f\"identity_matrix: \\n{identity_matrix}\")\n",
        "print(f\"Diagonal: \\n{extract_diagonal}\")"
      ],
      "metadata": {
        "colab": {
          "base_uri": "https://localhost:8080/"
        },
        "id": "ZV885qcgvJUa",
        "outputId": "b310405e-5383-4b04-87b9-e169240022df"
      },
      "execution_count": 8,
      "outputs": [
        {
          "output_type": "stream",
          "name": "stdout",
          "text": [
            "identity_matrix: \n",
            "[[1 0 0 0 0]\n",
            " [0 1 0 0 0]\n",
            " [0 0 1 0 0]\n",
            " [0 0 0 1 0]\n",
            " [0 0 0 0 1]]\n",
            "Diagonal: \n",
            "[1 1 1 1 1]\n"
          ]
        }
      ]
    },
    {
      "cell_type": "markdown",
      "source": [
        "Generate a NumPy array of 100 random integers between 0 and 1000. Find and display all prime numbers in this array"
      ],
      "metadata": {
        "id": "-o5C5D87vPWi"
      }
    },
    {
      "cell_type": "code",
      "source": [
        "a=np.random.randint(1,1000,100)\n",
        "\n",
        "def is_prime(num):\n",
        "  if num<2:\n",
        "    return False\n",
        "  else:\n",
        "    for i in range(2, int(np.sqrt(num)) + 1):\n",
        "        if num % i == 0:\n",
        "            return False\n",
        "    return True\n",
        "prime_num=np.array([num for num in a if is_prime(num)])\n",
        "prime_num\n"
      ],
      "metadata": {
        "colab": {
          "base_uri": "https://localhost:8080/"
        },
        "id": "x3DULSS5vMev",
        "outputId": "b8e22ed0-1ec6-41d5-87f1-3838856bd5d3"
      },
      "execution_count": 9,
      "outputs": [
        {
          "output_type": "execute_result",
          "data": {
            "text/plain": [
              "array([257, 911, 397, 499,  29, 677, 773, 373, 877, 421, 337, 823, 107,\n",
              "       331])"
            ]
          },
          "metadata": {},
          "execution_count": 9
        }
      ]
    },
    {
      "cell_type": "markdown",
      "source": [
        "Create a NumPy array representing daily temperatures for a month. Calculate and display the weekly averages."
      ],
      "metadata": {
        "id": "dBRlC7RavWW5"
      }
    },
    {
      "cell_type": "code",
      "source": [
        "import numpy as np\n",
        "\n",
        "daily_temperatures = np.random.randint(20, 40, 30)\n",
        "\n",
        "weeks = daily_temperatures[:28].reshape(4, 7)  # First 4 weeks of 7 days\n",
        "last_week = daily_temperatures[28:]            # Remaining 2 days\n",
        "\n",
        "weekly_averages = np.mean(weeks, axis=1)\n",
        "last_week_average = np.mean(last_week) if last_week.size > 0 else None\n",
        "\n",
        "\n",
        "print(\"Daily Temperatures:\\n\", daily_temperatures)\n",
        "print(\"\\nWeekly Averages:\\n\", weekly_averages)\n",
        "\n",
        "if last_week_average is not None:\n",
        "    print(\"\\nLast Week Average (for 2 days):\", last_week_average)"
      ],
      "metadata": {
        "colab": {
          "base_uri": "https://localhost:8080/"
        },
        "id": "fILahcFIvSQA",
        "outputId": "3ad038fb-2402-47e0-d4e8-457dbac305a3"
      },
      "execution_count": 10,
      "outputs": [
        {
          "output_type": "stream",
          "name": "stdout",
          "text": [
            "Daily Temperatures:\n",
            " [39 22 22 29 24 20 26 39 21 20 23 35 28 36 34 27 20 32 24 26 20 22 32 30\n",
            " 31 39 37 31 35 34]\n",
            "\n",
            "Weekly Averages:\n",
            " [26.         28.85714286 26.14285714 31.71428571]\n",
            "\n",
            "Last Week Average (for 2 days): 34.5\n"
          ]
        }
      ]
    }
  ]
}