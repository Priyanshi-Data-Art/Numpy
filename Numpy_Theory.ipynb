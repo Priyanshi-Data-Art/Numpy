{
  "nbformat": 4,
  "nbformat_minor": 0,
  "metadata": {
    "colab": {
      "provenance": [],
      "authorship_tag": "ABX9TyPgbkwKhs/lDp3DvIuo28BF",
      "include_colab_link": true
    },
    "kernelspec": {
      "name": "python3",
      "display_name": "Python 3"
    },
    "language_info": {
      "name": "python"
    }
  },
  "cells": [
    {
      "cell_type": "markdown",
      "metadata": {
        "id": "view-in-github",
        "colab_type": "text"
      },
      "source": [
        "<a href=\"https://colab.research.google.com/github/Priyanshi-Data-Art/Numpy/blob/main/Numpy_Theory.ipynb\" target=\"_parent\"><img src=\"https://colab.research.google.com/assets/colab-badge.svg\" alt=\"Open In Colab\"/></a>"
      ]
    },
    {
      "cell_type": "markdown",
      "source": [
        "1. Explain the purpose and advantages of NumPy in scientific computing and data analysis. How does it\n",
        "enhance Python's capabilities for numerical operations?"
      ],
      "metadata": {
        "id": "ty0vZ7vlSLQn"
      }
    },
    {
      "cell_type": "markdown",
      "source": [
        "NumPy is essential in scientific computing and data analysis due to its ability to efficiently handle large arrays and matrices, providing powerful numerical operations. It enhances Python by offering:\n",
        "\n",
        "Fast Performance: NumPy arrays are more memory-efficient and faster than native Python lists.\n",
        "\n",
        "Vectorized Operations: Allows operations on entire arrays without the need for loops, improving speed and readability.\n",
        "\n",
        "Extensive Functions: Offers built-in mathematical, statistical, and linear algebra functions.\n",
        "\n",
        "Integration: Works well with other libraries like Pandas and Matplotlib, enhancing data manipulation and visualization capabilities."
      ],
      "metadata": {
        "id": "ndozo9-LSUzi"
      }
    },
    {
      "cell_type": "markdown",
      "source": [
        "2. Compare and contrast np.mean() and np.average() functions in NumPy. When would you use one over the\n",
        "other?"
      ],
      "metadata": {
        "id": "duyTAisJScum"
      }
    },
    {
      "cell_type": "markdown",
      "source": [
        "In NumPy:\n",
        "\n",
        "np.mean() calculates the arithmetic mean (average) of array elements, considering all elements equally.\n",
        "\n",
        "np.average() also calculates the average but allows weighted averages by using the weights parameter, giving more importance to certain elements.\n",
        "\n",
        "\n",
        "**Use np.mean() when you want a simple mean of the elements.**\n",
        "\n",
        "**Use np.average() when you need a weighted average to emphasize specific values in the calculation.**"
      ],
      "metadata": {
        "id": "6dkWxxIoSiSN"
      }
    },
    {
      "cell_type": "markdown",
      "source": [
        "3. Describe the methods for reversing a NumPy array along different axes. Provide examples for 1D and 2D\n",
        "arrays."
      ],
      "metadata": {
        "id": "HRes0DOQS7l4"
      }
    },
    {
      "cell_type": "markdown",
      "source": [
        "In NumPy, you can reverse arrays along different axes using slicing or specific functions like np.flip(). Here’s how you can do it for 1D and 2D arrays:\n",
        "\n",
        "**1D Array**\n",
        "\n",
        "For a 1D array, you can reverse it by slicing:"
      ],
      "metadata": {
        "id": "xyUvGuIWTQ7p"
      }
    },
    {
      "cell_type": "code",
      "source": [
        "import numpy as np\n",
        "\n",
        "arr_1d = np.array([1, 2, 3, 4, 5])\n",
        "reversed_1d = arr_1d[::-1]  # Reverses the array\n",
        "print(reversed_1d)  # Output: [5, 4, 3, 2, 1]\n"
      ],
      "metadata": {
        "colab": {
          "base_uri": "https://localhost:8080/"
        },
        "id": "J11InWKFTUQA",
        "outputId": "addb9f2b-e61a-4624-cd0f-172d713cdc9f"
      },
      "execution_count": null,
      "outputs": [
        {
          "output_type": "stream",
          "name": "stdout",
          "text": [
            "[5 4 3 2 1]\n"
          ]
        }
      ]
    },
    {
      "cell_type": "markdown",
      "source": [
        "**2D Array**\n",
        "\n",
        "For a 2D array, you can reverse along rows or columns using np.flip():\n",
        "\n",
        "Reverse along rows (axis=0):"
      ],
      "metadata": {
        "id": "fNF8MUqfTYVF"
      }
    },
    {
      "cell_type": "code",
      "source": [
        "arr_2d = np.array([[1, 2, 3], [4, 5, 6], [7, 8, 9]])\n",
        "reversed_2d_rows = np.flip(arr_2d, axis=0)\n",
        "print(reversed_2d_rows)\n",
        "reversed_2d_cols = np.flip(arr_2d, axis=1)\n",
        "print(reversed_2d_cols)\n",
        "\n",
        "\n"
      ],
      "metadata": {
        "colab": {
          "base_uri": "https://localhost:8080/"
        },
        "id": "xpQAldFsTZBT",
        "outputId": "9bd88326-bab0-402a-fd43-198dbc2af1e2"
      },
      "execution_count": null,
      "outputs": [
        {
          "output_type": "stream",
          "name": "stdout",
          "text": [
            "[[7 8 9]\n",
            " [4 5 6]\n",
            " [1 2 3]]\n",
            "[[3 2 1]\n",
            " [6 5 4]\n",
            " [9 8 7]]\n"
          ]
        }
      ]
    },
    {
      "cell_type": "markdown",
      "source": [
        "4. How can you determine the data type of elements in a NumPy array? Discuss the importance of data types\n",
        "in memory management and performance.\n",
        "\n",
        "\n"
      ],
      "metadata": {
        "id": "YroY18C_T0yy"
      }
    },
    {
      "cell_type": "code",
      "source": [],
      "metadata": {
        "id": "vbiml4ObT69p"
      },
      "execution_count": null,
      "outputs": []
    },
    {
      "cell_type": "markdown",
      "source": [
        "You can determine the data type of elements in a NumPy array using the dtype attribute:"
      ],
      "metadata": {
        "id": "qfeqG8rNUDOv"
      }
    },
    {
      "cell_type": "code",
      "source": [
        "import numpy as np\n",
        "\n",
        "arr = np.array([1, 2, 3])\n",
        "print(arr.dtype)  # Output: int64 (or platform-specific type)\n"
      ],
      "metadata": {
        "colab": {
          "base_uri": "https://localhost:8080/"
        },
        "id": "ZDOywCTUUDpJ",
        "outputId": "5060a523-14e0-4708-8e5f-2efd32cb516d"
      },
      "execution_count": null,
      "outputs": [
        {
          "output_type": "stream",
          "name": "stdout",
          "text": [
            "int64\n"
          ]
        }
      ]
    },
    {
      "cell_type": "markdown",
      "source": [
        "**Importance of Data Types:**\n",
        "\n",
        "Memory Management: NumPy allows you to specify the data type (e.g., int32, float64), which ensures efficient memory usage by allocating only the required amount of space for each element.\n",
        "\n",
        "Performance: Operations on NumPy arrays with the appropriate data type are faster because they utilize low-level optimizations and avoid unnecessary type conversions, improving computational performance.\n",
        "\n",
        "\n",
        "Proper data types ensure that numerical computations are both memory-efficient and high-performance."
      ],
      "metadata": {
        "id": "LBhoIKmDUInD"
      }
    },
    {
      "cell_type": "markdown",
      "source": [
        "5. Define ndarrays in NumPy and explain their key features. How do they differ from standard Python lists?"
      ],
      "metadata": {
        "id": "Z9lmTWmfUZMY"
      }
    },
    {
      "cell_type": "markdown",
      "source": [
        "**Ndarrays in NumPy**\n",
        "\n",
        "**Definition:** Ndarrays (n-dimensional arrays) are the primary data structures in NumPy for handling large, multi-dimensional arrays and matrices.\n",
        "\n",
        "**Key Features:**\n",
        "\n",
        "Fixed Size: Once created, the size cannot be changed.\n",
        "\n",
        "Homogeneous Data: All elements must be of the same data type.\n",
        "\n",
        "Efficient Memory Usage: Stored in contiguous memory, leading to better performance.\n",
        "\n",
        "Vectorized Operations: Supports element-wise mathematical operations.\n",
        "\n",
        "Multi-dimensional Support: Can represent arrays of any dimensionality (1D, 2D, etc.).\n",
        "\n",
        "Advanced Indexing: Provides powerful slicing and indexing capabilities.\n",
        "\n",
        "**Differences from Python Lists:**\n",
        "\n",
        "Data Type: Ndarrays are homogeneous; lists can be heterogeneous.\n",
        "\n",
        "Memory Efficiency: Ndarrays use less memory and are more efficient for numerical operations.\n",
        "\n",
        "Performance: Ndarrays allow faster computations through vectorization.\n",
        "\n",
        "Dimensions: Ndarrays naturally handle multi-dimensional data better than nested lists.\n",
        "\n",
        "These advantages make ndarrays essential for scientific computing and data analysis in Python."
      ],
      "metadata": {
        "id": "ZwRG-6HAUjtB"
      }
    },
    {
      "cell_type": "markdown",
      "source": [
        "6. Analyze the performance benefits of NumPy arrays over Python lists for large-scale numerical operations."
      ],
      "metadata": {
        "id": "3TZe0RziU5RB"
      }
    },
    {
      "cell_type": "markdown",
      "source": [
        "**Performance Benefits of NumPy Arrays over Python Lists**\n",
        "\n",
        "Speed: NumPy arrays are implemented in C, making operations on them significantly faster than operations on Python lists, which are more flexible but slower due to their dynamic typing.\n",
        "\n",
        "Memory Efficiency: NumPy arrays store data in a contiguous block of memory, which leads to better cache performance and reduced memory overhead compared to Python lists that store references to objects.\n",
        "\n",
        "Vectorization: NumPy allows vectorized operations, enabling you to apply functions to entire arrays without the need for explicit loops. This reduces the execution time and improves code readability.\n",
        "\n",
        "Broadcasting: NumPy supports broadcasting, allowing operations between arrays of different shapes without needing to manually resize them. This capability optimizes performance in many numerical tasks.\n",
        "\n",
        "Built-in Functions: NumPy provides a wide range of optimized functions for mathematical operations, linear algebra, and statistical calculations that are highly efficient compared to using native Python functions on lists.\n",
        "\n",
        "Overall, NumPy arrays provide a significant performance advantage for large-scale numerical operations, making them essential for scientific computing and data analysis in Python."
      ],
      "metadata": {
        "id": "L4naokp3VA_W"
      }
    },
    {
      "cell_type": "markdown",
      "source": [
        "7. Compare vstack() and hstack() functions in NumPy. Provide examples demonstrating their usage and\n",
        "output."
      ],
      "metadata": {
        "id": "csdfAj4uVIsh"
      }
    },
    {
      "cell_type": "markdown",
      "source": [
        "Comparison of vstack() and hstack() in NumPy\n",
        "vstack():\n",
        "\n",
        "Purpose: Stacks arrays in sequence vertically (row-wise).\n",
        "\n",
        "Usage: Combines arrays along the vertical axis (axis=0)."
      ],
      "metadata": {
        "id": "tGfOWoHWVUjP"
      }
    },
    {
      "cell_type": "code",
      "source": [
        "import numpy as np\n",
        "\n",
        "a = np.array([[1, 2], [3, 4]])\n",
        "b = np.array([[5, 6]])\n",
        "\n",
        "result_vstack = np.vstack((a, b))\n",
        "print(result_vstack)\n"
      ],
      "metadata": {
        "colab": {
          "base_uri": "https://localhost:8080/"
        },
        "id": "NSn3R2ksUFmi",
        "outputId": "8c80bc80-1412-4d5b-fe5b-d556a635bfe1"
      },
      "execution_count": null,
      "outputs": [
        {
          "output_type": "stream",
          "name": "stdout",
          "text": [
            "[[1 2]\n",
            " [3 4]\n",
            " [5 6]]\n"
          ]
        }
      ]
    },
    {
      "cell_type": "markdown",
      "source": [
        "hstack():\n",
        "\n",
        "Purpose: Stacks arrays in sequence horizontally (column-wise).\n",
        "\n",
        "Usage: Combines arrays along the horizontal axis (axis=1).\n"
      ],
      "metadata": {
        "id": "qdM0rL6DVjNs"
      }
    },
    {
      "cell_type": "code",
      "source": [
        "import numpy as np\n",
        "\n",
        "a = np.array([[1, 2], [3, 4]])\n",
        "b = np.array([[5], [6]])\n",
        "\n",
        "result_hstack = np.hstack((a, b))\n",
        "print(result_hstack)\n"
      ],
      "metadata": {
        "colab": {
          "base_uri": "https://localhost:8080/"
        },
        "id": "FBOSzZ6xVeH2",
        "outputId": "866c64ba-b0d4-4b2a-8233-5c40a9dc9255"
      },
      "execution_count": null,
      "outputs": [
        {
          "output_type": "stream",
          "name": "stdout",
          "text": [
            "[[1 2 5]\n",
            " [3 4 6]]\n"
          ]
        }
      ]
    },
    {
      "cell_type": "markdown",
      "source": [
        "Summary\n",
        "\n",
        "vstack() combines arrays row-wise, while hstack() combines them column-wise.\n",
        "\n",
        "They are useful for different scenarios based on how you want to structure your data."
      ],
      "metadata": {
        "id": "xezoFAH5Vp61"
      }
    },
    {
      "cell_type": "markdown",
      "source": [
        "8. Explain the differences between fliplr() and flipud() methods in NumPy, including their effects on various\n",
        "array dimensions."
      ],
      "metadata": {
        "id": "JBj0Av7RrW8e"
      }
    },
    {
      "cell_type": "markdown",
      "source": [
        "1. fliplr():\n",
        "\n",
        "Purpose: Flips an array horizontally (left to right).\n",
        "Effect: Reverses the order of columns, flipping the array along the second axis (axis=1).\n",
        "Usage: Works on 2D or higher-dimensional arrays.\n",
        "Example"
      ],
      "metadata": {
        "id": "AbosCUX3rdQi"
      }
    },
    {
      "cell_type": "code",
      "source": [
        "import numpy as np\n",
        "a = np.array([[1, 2, 3], [4, 5, 6]])\n",
        "result = np.fliplr(a)\n",
        "print(result)\n"
      ],
      "metadata": {
        "id": "a2EgaGvTVYbP",
        "colab": {
          "base_uri": "https://localhost:8080/"
        },
        "outputId": "0ac762c4-f670-4b0b-a292-2e6372a882bf"
      },
      "execution_count": 1,
      "outputs": [
        {
          "output_type": "stream",
          "name": "stdout",
          "text": [
            "[[3 2 1]\n",
            " [6 5 4]]\n"
          ]
        }
      ]
    },
    {
      "cell_type": "markdown",
      "source": [
        "2. flipud():\n",
        "\n",
        "Purpose: Flips an array vertically (upside down).\n",
        "\n",
        "Effect: Reverses the order of rows, flipping the array along the first axis (axis=0).\n",
        "\n",
        "Usage: Works on 2D or higher-dimensional arrays.\n",
        "Example:"
      ],
      "metadata": {
        "id": "BN72JvKtrjNu"
      }
    },
    {
      "cell_type": "code",
      "source": [
        "import numpy as np\n",
        "a = np.array([[1, 2, 3], [4, 5, 6]])\n",
        "result = np.flipud(a)\n",
        "print(result)\n"
      ],
      "metadata": {
        "colab": {
          "base_uri": "https://localhost:8080/"
        },
        "id": "QUv6P06Hrf_z",
        "outputId": "681c3b95-f06d-4651-9a67-3548b5e38765"
      },
      "execution_count": 2,
      "outputs": [
        {
          "output_type": "stream",
          "name": "stdout",
          "text": [
            "[[4 5 6]\n",
            " [1 2 3]]\n"
          ]
        }
      ]
    },
    {
      "cell_type": "markdown",
      "source": [
        "Summary:\n",
        "fliplr() flips the array horizontally (left to right), while flipud() flips it vertically (upside down)."
      ],
      "metadata": {
        "id": "cfIXYRVXryMa"
      }
    },
    {
      "cell_type": "markdown",
      "source": [
        "9. Discuss the functionality of the array_split() method in NumPy. How does it handle uneven splits?"
      ],
      "metadata": {
        "id": "zSLMZXijr7BD"
      }
    },
    {
      "cell_type": "markdown",
      "source": [
        "The array_split() function in NumPy splits an array into specified parts. It handles uneven splits by distributing extra elements across the first sub-arrays. For example, splitting a size 7 array into 3 parts results in arrays of sizes 3, 2, and 2. This makes it flexible when dealing with arrays that don't divide evenly."
      ],
      "metadata": {
        "id": "OPEWPl8CsWQS"
      }
    },
    {
      "cell_type": "code",
      "source": [
        "import numpy as np\n",
        "\n",
        "arr = np.array([1, 2, 3, 4, 5, 6, 7])\n",
        "result = np.array_split(arr, 3)\n",
        "\n",
        "for subarray in result:\n",
        "    print(subarray)\n"
      ],
      "metadata": {
        "colab": {
          "base_uri": "https://localhost:8080/"
        },
        "id": "Jo70OXdqrnIe",
        "outputId": "822eef9c-a61e-4d43-aa04-8bad7febbc0e"
      },
      "execution_count": 3,
      "outputs": [
        {
          "output_type": "stream",
          "name": "stdout",
          "text": [
            "[1 2 3]\n",
            "[4 5]\n",
            "[6 7]\n"
          ]
        }
      ]
    },
    {
      "cell_type": "markdown",
      "source": [
        "10. Explain the concepts of vectorization and broadcasting in NumPy. How do they contribute to efficient array\n",
        "operations?"
      ],
      "metadata": {
        "id": "BLpgY2Z3sfsG"
      }
    },
    {
      "cell_type": "markdown",
      "source": [
        "Vectorization in NumPy allows operations to be applied directly to entire arrays, avoiding explicit loops and making code faster and more concise. Broadcasting enables operations on arrays of different shapes by automatically expanding smaller arrays to match the larger one, allowing element-wise operations without manually resizing arrays. Both concepts greatly enhance performance and simplify code."
      ],
      "metadata": {
        "id": "lb-TkxARskiR"
      }
    }
  ]
}